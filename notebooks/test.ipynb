{
 "cells": [
  {
   "cell_type": "code",
   "execution_count": null,
   "id": "889956c0",
   "metadata": {},
   "outputs": [],
   "source": [
    "import numpy as np\n",
    "import pandas as pd\n",
    "import pefile"
   ]
  },
  {
   "cell_type": "code",
   "execution_count": null,
   "id": "ef6a7f96",
   "metadata": {},
   "outputs": [],
   "source": [
    "filename = \"pefiles/benign/test.exe\""
   ]
  },
  {
   "cell_type": "code",
   "execution_count": null,
   "id": "9bcfcb0a",
   "metadata": {},
   "outputs": [],
   "source": [
    "pe = pefile.PE(filename)"
   ]
  },
  {
   "cell_type": "code",
   "execution_count": null,
   "id": "357ac699",
   "metadata": {},
   "outputs": [],
   "source": [
    "print(\"e_magic:\", pe.DOS_HEADER.e_magic)\n",
    "print(\"e_cp:\", pe.DOS_HEADER.e_cp)\n",
    "print(\"e_crlc:\", pe.DOS_HEADER.e_crlc)\n",
    "print(\"e_cparhdr:\", pe.DOS_HEADER.e_cparhdr)\n",
    "print(\"e_minalloc:\", pe.DOS_HEADER.e_minalloc)\n",
    "print(\"e_maxalloc:\", pe.DOS_HEADER.e_maxalloc)\n",
    "print(\"e_ss:\", pe.DOS_HEADER.e_ss)\n",
    "print(\"e_sp:\", pe.DOS_HEADER.e_sp)\n",
    "print(\"e_csum:\", pe.DOS_HEADER.e_csum)\n",
    "print(\"e_ip:\", pe.DOS_HEADER.e_ip)\n",
    "print(\"e_cs:\", pe.DOS_HEADER.e_cs)\n",
    "print(\"e_lfarlc:\", pe.DOS_HEADER.e_lfarlc)\n",
    "print(\"e_ovno:\", pe.DOS_HEADER.e_ovno)\n",
    "print(\"e_oemid:\", pe.DOS_HEADER.e_oemid)\n",
    "print(\"e_oeminfo:\", pe.DOS_HEADER.e_oeminfo)\n",
    "print(\"e_lfanew:\", pe.DOS_HEADER.e_lfanew)"
   ]
  },
  {
   "cell_type": "code",
   "execution_count": null,
   "id": "b4f11a06",
   "metadata": {
    "scrolled": true
   },
   "outputs": [],
   "source": [
    "print(\"Machine:\", pe.FILE_HEADER.Machine)\n",
    "print(\"NumberOfSections:\", pe.FILE_HEADER.NumberOfSections)\n",
    "print(\"TimeDateStamp:\", pe.FILE_HEADER.TimeDateStamp)\n",
    "print(\"PointerToSymbolTable:\", pe.FILE_HEADER.PointerToSymbolTable)\n",
    "print(\"NumberOfSymbols:\", pe.FILE_HEADER.NumberOfSymbols)\n",
    "print(\"SizeOfOptionalHeader:\", pe.FILE_HEADER.SizeOfOptionalHeader)\n",
    "print(\"Characteristics:\", pe.FILE_HEADER.Characteristics)\n",
    "print(\"Magic:\", pe.OPTIONAL_HEADER.Magic)\n",
    "print(\"MajorLinkerVersion:\", pe.OPTIONAL_HEADER.MajorLinkerVersion)\n",
    "print(\"MinorLinkerVersion:\", pe.OPTIONAL_HEADER.MinorLinkerVersion)\n",
    "print(\"SizeOfCode:\", pe.OPTIONAL_HEADER.SizeOfCode)\n",
    "print(\"SizeOfInitializedData:\", pe.OPTIONAL_HEADER.SizeOfInitializedData)\n",
    "print(\"SizeOfUninitializedData:\", pe.OPTIONAL_HEADER.SizeOfUninitializedData)\n",
    "print(\"AddressOfEntryPoint:\", pe.OPTIONAL_HEADER.AddressOfEntryPoint)\n",
    "print(\"BaseOfCode:\", pe.OPTIONAL_HEADER.BaseOfCode)\n",
    "print(\"ImageBase:\", pe.OPTIONAL_HEADER.ImageBase)\n",
    "print(\"SectionAlignment:\", pe.OPTIONAL_HEADER.SectionAlignment)\n",
    "print(\"FileAlignment:\", pe.OPTIONAL_HEADER.FileAlignment)\n",
    "print(\"MajorOperatingSystemVersion:\", pe.OPTIONAL_HEADER.MajorOperatingSystemVersion)\n",
    "print(\"MinorOperatingSystemVersion:\", pe.OPTIONAL_HEADER.MinorOperatingSystemVersion)\n",
    "print(\"MajorImageVersion:\", pe.OPTIONAL_HEADER.MajorImageVersion)\n",
    "print(\"MinorImageVersion:\", pe.OPTIONAL_HEADER.MinorImageVersion)\n",
    "print(\"MajorSubsystemVersion:\", pe.OPTIONAL_HEADER.MajorSubsystemVersion)\n",
    "print(\"MinorSubsystemVersion:\", pe.OPTIONAL_HEADER.MinorSubsystemVersion)\n",
    "print(\"SizeOfHeaders:\", pe.OPTIONAL_HEADER.SizeOfHeaders)\n",
    "print(\"CheckSum:\", pe.OPTIONAL_HEADER.CheckSum)\n",
    "print(\"SizeOfImage:\", pe.OPTIONAL_HEADER.SizeOfImage)\n",
    "print(\"DllCharacteristics:\", pe.OPTIONAL_HEADER.DllCharacteristics)\n",
    "print(\"SizeOfStackReserve:\", pe.OPTIONAL_HEADER.SizeOfStackReserve)\n",
    "print(\"SizeOfStackCommit:\", pe.OPTIONAL_HEADER.SizeOfStackCommit)\n",
    "print(\"SizeOfHeapReserve:\", pe.OPTIONAL_HEADER.SizeOfHeapReserve)\n",
    "print(\"SizeOfHeapCommit:\", pe.OPTIONAL_HEADER.SizeOfHeapCommit)\n",
    "print(\"LoaderFlags:\", pe.OPTIONAL_HEADER.LoaderFlags)\n",
    "print(\"NumberOfRvaAndSizes:\", pe.OPTIONAL_HEADER.NumberOfRvaAndSizes)\n",
    "print(\"Malware <- Target Class\")"
   ]
  },
  {
   "cell_type": "code",
   "execution_count": null,
   "id": "b964a2ba",
   "metadata": {},
   "outputs": [],
   "source": [
    "# SectionsLength - len(pe.sections) \n",
    "# SectionMinEntropy - min(section_entropy_dict.values())\n",
    "# SectionMaxEntropy - max(section_entropy_dict.values())\n",
    "# SectionMinRawsize - min(section_raw_size_dict.values())\n",
    "# SectionMaxRawsize - max(section_raw_size_dict.values())\n",
    "# SectionMinVirtualsize - min(section_virt_size_dict.values())\n",
    "# SectionMaxVirtualsize - max(section_virt_size_dict.values())\n",
    "# SectionMaxPhysical - max(section_physical_addr_dict.values())\n",
    "# SectionMinPhysical - min(section_physical_addr_dict.values())\n",
    "# SectionMaxVirtual - max(section_virt_addr_dict.values())\n",
    "# SectionMinVirtual - min(section_virt_addr_dict.values())\n",
    "# SectionMaxPointerData - max(section_pointer_data_dict.values())\n",
    "# SectionMinPointerData - min(section_pointer_data_dict.values())\n",
    "# SectionMaxChar - max(section_char_dict.values())\n",
    "# SectionMainChar - min(section_char_dict.values())\n",
    "# DirectoryEntryImport - len(pe.DIRECTORY_ENTRY_IMPORT)\n",
    "# DirectoryEntryImportSize - sum([x.imports for x in pe.DIRECTORY_ENTRY_IMPORT], [])\n",
    "# DirectoryEntryExport - len(pe.DIRECTORY_ENTRY_EXPORT.symbols)\n",
    "# ImageDirectoryEntryExport - pe.OPTIONAL_HEADER.DATA_DIRECTORY[pefile.DIRECTORY_ENTRY['IMAGE_DIRECTORY_ENTRY_EXPORT']].Size\n",
    "# ImageDirectoryEntryImport - pe.OPTIONAL_HEADER.DATA_DIRECTORY[pefile.DIRECTORY_ENTRY['IMAGE_DIRECTORY_ENTRY_IMPORT']].Size\n",
    "# ImageDirectoryEntryResource - pe.OPTIONAL_HEADER.DATA_DIRECTORY[pefile.DIRECTORY_ENTRY['IMAGE_DIRECTORY_ENTRY_RESOURCE']].Size\n",
    "# ImageDirectoryEntryException - pe.OPTIONAL_HEADER.DATA_DIRECTORY[pefile.DIRECTORY_ENTRY['IMAGE_DIRECTORY_ENTRY_EXCEPTION']].Size\n",
    "# ImageDirectoryEntrySecurity - pe.OPTIONAL_HEADER.DATA_DIRECTORY[pefile.DIRECTORY_ENTRY['IMAGE_DIRECTORY_ENTRY_SECURITY']].Size"
   ]
  },
  {
   "cell_type": "code",
   "execution_count": null,
   "id": "4ba52ec5",
   "metadata": {},
   "outputs": [],
   "source": [
    "for entry in pe.DIRECTORY_ENTRY_IMPORT:\n",
    "    print(f\"Import DLL: {entry.dll.decode('utf-8')}\")\n",
    "    for imp in entry.imports:\n",
    "        print(f\"  Function: {imp.name.decode('utf-8')}\")"
   ]
  },
  {
   "cell_type": "code",
   "execution_count": null,
   "id": "c7ebc4ec",
   "metadata": {},
   "outputs": [],
   "source": [
    "len(pe.sections)"
   ]
  },
  {
   "cell_type": "code",
   "execution_count": null,
   "id": "5444234b",
   "metadata": {},
   "outputs": [],
   "source": [
    "def get_entropy(data):\n",
    "    if len(data) == 0:\n",
    "        return 0.0\n",
    "    occurences = array.array('L', [0]*256)\n",
    "    for x in data:\n",
    "        occurences[x if isinstance(x, int) else ord(x)] += 1\n",
    "\n",
    "    entropy = 0\n",
    "    for x in occurences:\n",
    "        if x:\n",
    "            p_x = float(x) / len(data)\n",
    "            entropy -= p_x*math.log(p_x, 2)\n",
    "\n",
    "    return entropy"
   ]
  },
  {
   "cell_type": "code",
   "execution_count": null,
   "id": "ffae3d4a",
   "metadata": {},
   "outputs": [],
   "source": [
    "# entropy = map(lambda x:x.get_entropy(), pe.sections)\n",
    "section_entropy_dict = {}\n",
    "total_entropy = 0\n",
    "\n",
    "for section in pe.sections:\n",
    "    section_name = section.Name.decode('utf-8').strip('\\x00')\n",
    "    entropy = section.get_entropy()\n",
    "    section_entropy_dict[section_name] = entropy\n",
    "    total_entropy += entropy\n",
    "\n",
    "for section_name, entropy in section_entropy_dict.items():\n",
    "    print(f\"Section Name: {section_name}, Entropy: {entropy:.2f}\")\n",
    "    \n",
    "print(\"Total Entropy: \", total_entropy)"
   ]
  },
  {
   "cell_type": "code",
   "execution_count": null,
   "id": "3bf9814d",
   "metadata": {},
   "outputs": [],
   "source": [
    "print(\"SectionMinEntropy -\", min(section_entropy_dict.values()))\n",
    "print(\"SectionMaxEntropy -\", max(section_entropy_dict.values()))"
   ]
  },
  {
   "cell_type": "code",
   "execution_count": null,
   "id": "e4e9745d",
   "metadata": {},
   "outputs": [],
   "source": [
    "section_raw_size_dict = {}\n",
    "total_raw_size = 0\n",
    "\n",
    "for section in pe.sections:\n",
    "    section_name = section.Name.decode('utf-8').strip('\\x00')\n",
    "    raw_size = section.SizeOfRawData\n",
    "    section_raw_size_dict[section_name] = raw_size\n",
    "    total_raw_size += raw_size\n",
    "\n",
    "for section_name, raw_size in section_raw_size_dict.items():\n",
    "    print(f\"Section Name: {section_name}, SizeOfRawData: {raw_size}\")\n",
    "    \n",
    "print(\"Total Raw Size:\", total_raw_size)"
   ]
  },
  {
   "cell_type": "code",
   "execution_count": null,
   "id": "d1ddd437",
   "metadata": {},
   "outputs": [],
   "source": [
    "print(\"SectionMinRawsize -\", min(section_raw_size_dict.values()))\n",
    "print(\"SectionMaxRawsize -\", max(section_raw_size_dict.values()))"
   ]
  },
  {
   "cell_type": "code",
   "execution_count": null,
   "id": "15af4098",
   "metadata": {},
   "outputs": [],
   "source": [
    "section_virt_size_dict = {}\n",
    "total_virt_size = 0\n",
    "\n",
    "for section in pe.sections:\n",
    "    section_name = section.Name.decode('utf-8').strip('\\x00')\n",
    "    virt_size = section.Misc_VirtualSize\n",
    "    section_virt_size_dict[section_name] = virt_size\n",
    "    total_virt_size += virt_size\n",
    "\n",
    "for section_name, virt_size in section_virt_size_dict.items():\n",
    "    print(f\"Section Name: {section_name}, Misc_VirtualSize: {virt_size}\")\n",
    "    \n",
    "print(\"Total Virt Size:\", total_virt_size)"
   ]
  },
  {
   "cell_type": "code",
   "execution_count": null,
   "id": "e9840caf",
   "metadata": {},
   "outputs": [],
   "source": [
    "print(\"SectionMinVirtualsize -\", min(section_virt_size_dict.values()))\n",
    "print(\"SectionMaxVirtualsize -\", max(section_virt_size_dict.values()))"
   ]
  },
  {
   "cell_type": "code",
   "execution_count": null,
   "id": "b02eec21",
   "metadata": {},
   "outputs": [],
   "source": [
    "section."
   ]
  },
  {
   "cell_type": "code",
   "execution_count": null,
   "id": "74af72e6",
   "metadata": {},
   "outputs": [],
   "source": [
    "section_physical_addr_dict = {}\n",
    "\n",
    "for section in pe.sections:\n",
    "    section_name = section.Name.decode('utf-8').strip('\\x00')\n",
    "    physical = section.Misc_PhysicalAddress\n",
    "    section_physical_addr_dict[section_name] = physical\n",
    "\n",
    "for section_name, physical in section_physical_addr_dict.items():\n",
    "    print(f\"Section Name: {section_name}, Misc_PhysicalAddress: {physical}\")"
   ]
  },
  {
   "cell_type": "code",
   "execution_count": null,
   "id": "7251915f",
   "metadata": {},
   "outputs": [],
   "source": [
    "print(\"SectionMaxPhysical -\", max(section_physical_addr_dict.values()))\n",
    "print(\"SectionMinPhysical -\", min(section_physical_addr_dict.values()))"
   ]
  },
  {
   "cell_type": "code",
   "execution_count": null,
   "id": "5f5fffb9",
   "metadata": {},
   "outputs": [],
   "source": [
    "section_virt_addr_dict = {}\n",
    "\n",
    "for section in pe.sections:\n",
    "    section_name = section.Name.decode('utf-8').strip('\\x00')\n",
    "    virtual = section.VirtualAddress\n",
    "    section_virt_addr_dict[section_name] = virtual\n",
    "\n",
    "for section_name, virtual in section_virt_addr_dict.items():\n",
    "    print(f\"Section Name: {section_name}, VirtualAddress: {virtual}\")"
   ]
  },
  {
   "cell_type": "code",
   "execution_count": null,
   "id": "d28bfcc1",
   "metadata": {},
   "outputs": [],
   "source": [
    "print(\"SectionMaxVirtual -\", max(section_virt_addr_dict.values()))\n",
    "print(\"SectionMinVirtual -\", min(section_virt_addr_dict.values()))"
   ]
  },
  {
   "cell_type": "code",
   "execution_count": null,
   "id": "e67d5a4c",
   "metadata": {},
   "outputs": [],
   "source": [
    "section_pointer_data_dict = {}\n",
    "\n",
    "for section in pe.sections:\n",
    "    section_name = section.Name.decode('utf-8').strip('\\x00')\n",
    "    pointer_data = section.PointerToRawData\n",
    "    section_pointer_data_dict[section_name] = pointer_data\n",
    "\n",
    "for section_name, pointer_data in section_pointer_data_dict.items():\n",
    "    print(f\"Section Name: {section_name}, PointerToRawData: {pointer_data}\")"
   ]
  },
  {
   "cell_type": "code",
   "execution_count": null,
   "id": "b9d966cf",
   "metadata": {},
   "outputs": [],
   "source": [
    "print(\"SectionMaxPointerData -\", max(section_pointer_data_dict.values()))\n",
    "print(\"SectionMinPointerData -\", min(section_pointer_data_dict.values()))"
   ]
  },
  {
   "cell_type": "code",
   "execution_count": null,
   "id": "1b10dd0a",
   "metadata": {},
   "outputs": [],
   "source": [
    "# SectionMaxChar - max(section_char_dict.values())\n",
    "# SectionMainChar - min(section_char_dict.values())\n",
    "# DirectoryEntryImport - len(pe.DIRECTORY_ENTRY_IMPORT)\n",
    "# DirectoryEntryImportSize - sum([x.imports for x in pe.DIRECTORY_ENTRY_IMPORT], [])\n",
    "# DirectoryEntryExport - len(pe.DIRECTORY_ENTRY_EXPORT.symbols)\n",
    "# ImageDirectoryEntryExport - pe.OPTIONAL_HEADER.DATA_DIRECTORY[pefile.DIRECTORY_ENTRY['IMAGE_DIRECTORY_ENTRY_EXPORT']].Size\n",
    "# ImageDirectoryEntryImport - pe.OPTIONAL_HEADER.DATA_DIRECTORY[pefile.DIRECTORY_ENTRY['IMAGE_DIRECTORY_ENTRY_IMPORT']].Size\n",
    "# ImageDirectoryEntryResource - pe.OPTIONAL_HEADER.DATA_DIRECTORY[pefile.DIRECTORY_ENTRY['IMAGE_DIRECTORY_ENTRY_RESOURCE']].Size\n",
    "# ImageDirectoryEntryException - pe.OPTIONAL_HEADER.DATA_DIRECTORY[pefile.DIRECTORY_ENTRY['IMAGE_DIRECTORY_ENTRY_EXCEPTION']].Size\n",
    "# ImageDirectoryEntrySecurity - pe.OPTIONAL_HEADER.DATA_DIRECTORY[pefile.DIRECTORY_ENTRY['IMAGE_DIRECTORY_ENTRY_SECURITY']].Size"
   ]
  },
  {
   "cell_type": "code",
   "execution_count": null,
   "id": "bb9eb013",
   "metadata": {},
   "outputs": [],
   "source": [
    "section.Characteristics"
   ]
  },
  {
   "cell_type": "code",
   "execution_count": null,
   "id": "0626c35c",
   "metadata": {},
   "outputs": [],
   "source": [
    "section_char_dict = {}\n",
    "\n",
    "for section in pe.sections:\n",
    "    section_name = section.Name.decode('utf-8').strip('\\x00')\n",
    "    chars = section.Characteristics\n",
    "    section_char_dict[section_name] = chars\n",
    "\n",
    "for section_name, chars in section_char_dict.items():\n",
    "    print(f\"Section Name: {section_name}, Characteristics: {chars}\")"
   ]
  },
  {
   "cell_type": "code",
   "execution_count": null,
   "id": "5c228328",
   "metadata": {},
   "outputs": [],
   "source": [
    "print(\"SectionMaxChar -\", max(section_char_dict.values()))\n",
    "print(\"SectionMainChar -\", min(section_char_dict.values()))"
   ]
  },
  {
   "cell_type": "code",
   "execution_count": null,
   "id": "454852c4",
   "metadata": {},
   "outputs": [],
   "source": [
    "len(pe.DIRECTORY_ENTRY_IMPORT)"
   ]
  },
  {
   "cell_type": "code",
   "execution_count": null,
   "id": "4bd6d652",
   "metadata": {},
   "outputs": [],
   "source": [
    "imports = sum([x.imports for x in pe.DIRECTORY_ENTRY_IMPORT], [])"
   ]
  },
  {
   "cell_type": "code",
   "execution_count": null,
   "id": "eeaa58f8",
   "metadata": {},
   "outputs": [],
   "source": [
    "len(imports)"
   ]
  },
  {
   "cell_type": "code",
   "execution_count": null,
   "id": "2ca8e18e",
   "metadata": {},
   "outputs": [],
   "source": [
    "len(pe.DIRECTORY_ENTRY_EXPORT.symbols)"
   ]
  },
  {
   "cell_type": "code",
   "execution_count": null,
   "id": "afef149e",
   "metadata": {},
   "outputs": [],
   "source": [
    "export_directory = pe.OPTIONAL_HEADER.DATA_DIRECTORY[pefile.DIRECTORY_ENTRY['IMAGE_DIRECTORY_ENTRY_EXPORT']].Size\n",
    "export_size = export_directory.Size\n",
    "print(export_size)"
   ]
  },
  {
   "cell_type": "code",
   "execution_count": null,
   "id": "95aa2b2a",
   "metadata": {},
   "outputs": [],
   "source": [
    "pe.OPTIONAL_HEADER.DATA_DIRECTORY[pefile.DIRECTORY_ENTRY['IMAGE_DIRECTORY_ENTRY_SECURITY']].Size"
   ]
  },
  {
   "cell_type": "markdown",
   "id": "779d585d",
   "metadata": {},
   "source": [
    "# Train"
   ]
  },
  {
   "cell_type": "code",
   "execution_count": null,
   "id": "9e2ebafe",
   "metadata": {},
   "outputs": [],
   "source": [
    "import pandas as pd\n",
    "data = pd.read_csv(\"datasets/file_pe.csv\")\n",
    "data.drop([\"SuspiciousImportFunctions\", \"SuspiciousNameSection\", \"DirectoryEntryImportSize\"], axis=1, inplace=True)\n",
    "data.head()"
   ]
  },
  {
   "cell_type": "code",
   "execution_count": null,
   "id": "c70e5e55",
   "metadata": {},
   "outputs": [],
   "source": [
    "X = data.drop([\"Name\", \"Malware\"], axis=1)"
   ]
  },
  {
   "cell_type": "code",
   "execution_count": null,
   "id": "d0d628c6",
   "metadata": {},
   "outputs": [],
   "source": [
    "y = data[\"Malware\"]"
   ]
  },
  {
   "cell_type": "code",
   "execution_count": null,
   "id": "2915596d",
   "metadata": {},
   "outputs": [],
   "source": [
    "from sklearn.model_selection import train_test_split\n",
    "X_train, X_test, y_train, y_test = train_test_split(X, y, test_size=0.3)"
   ]
  },
  {
   "cell_type": "code",
   "execution_count": null,
   "id": "c394f7e4",
   "metadata": {},
   "outputs": [],
   "source": [
    "from xgboost import XGBClassifier\n",
    "XGB_model_instance = XGBClassifier()\n",
    "XGB_model_instance.fit(X_train, y_train)"
   ]
  },
  {
   "cell_type": "code",
   "execution_count": null,
   "id": "78ef9475",
   "metadata": {},
   "outputs": [],
   "source": [
    "from sklearn.metrics import accuracy_score\n",
    "y_test_pred = XGB_model_instance.predict(X_test)\n",
    "accuracy = accuracy_score(y_test, y_test_pred)\n",
    "print(\"Accuracy: %.2f%%\" % (accuracy * 100))"
   ]
  },
  {
   "cell_type": "code",
   "execution_count": null,
   "id": "ea5ed69b",
   "metadata": {},
   "outputs": [],
   "source": [
    "import pickle\n",
    "\n",
    "pickle.dump(XGB_model_instance, open(\"models/xgb.pkl\", \"wb\"))"
   ]
  },
  {
   "cell_type": "code",
   "execution_count": null,
   "id": "ff965c8b",
   "metadata": {},
   "outputs": [],
   "source": []
  }
 ],
 "metadata": {
  "kernelspec": {
   "display_name": "Python 3 (ipykernel)",
   "language": "python",
   "name": "python3"
  },
  "language_info": {
   "codemirror_mode": {
    "name": "ipython",
    "version": 3
   },
   "file_extension": ".py",
   "mimetype": "text/x-python",
   "name": "python",
   "nbconvert_exporter": "python",
   "pygments_lexer": "ipython3",
   "version": "3.10.12"
  }
 },
 "nbformat": 4,
 "nbformat_minor": 5
}
